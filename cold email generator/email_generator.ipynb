{
 "cells": [
  {
   "metadata": {
    "ExecuteTime": {
     "end_time": "2025-07-05T16:29:24.969871Z",
     "start_time": "2025-07-05T16:29:23.931171Z"
    }
   },
   "cell_type": "code",
   "source": [
    "from langchain_groq import ChatGroq\n",
    "import os"
   ],
   "id": "initial_id",
   "outputs": [],
   "execution_count": 1
  },
  {
   "metadata": {
    "ExecuteTime": {
     "end_time": "2025-07-05T16:29:27.775341Z",
     "start_time": "2025-07-05T16:29:27.762583Z"
    }
   },
   "cell_type": "code",
   "source": [
    "from dotenv import load_dotenv\n",
    "load_dotenv()\n",
    "\n",
    "api_key = os.getenv(\"GROQ_API_KEY\")"
   ],
   "id": "a0acb2d05df250e6",
   "outputs": [],
   "execution_count": 2
  },
  {
   "metadata": {
    "ExecuteTime": {
     "end_time": "2025-07-05T16:29:32.564980Z",
     "start_time": "2025-07-05T16:29:31.964305Z"
    }
   },
   "cell_type": "code",
   "source": [
    "llm = ChatGroq(\n",
    "    temperature=0,\n",
    "    model_name=\"llama3-70b-8192\",\n",
    "    api_key=api_key\n",
    ")"
   ],
   "id": "5fa0771a81b402f7",
   "outputs": [],
   "execution_count": 3
  },
  {
   "metadata": {
    "ExecuteTime": {
     "end_time": "2025-07-05T16:32:43.434984Z",
     "start_time": "2025-07-05T16:32:43.300819Z"
    }
   },
   "cell_type": "code",
   "source": "from langchain_community.document_loaders import WebBaseLoader",
   "id": "3df3fabe290bb26e",
   "outputs": [
    {
     "name": "stderr",
     "output_type": "stream",
     "text": [
      "USER_AGENT environment variable not set, consider setting it to identify your requests.\n"
     ]
    }
   ],
   "execution_count": 4
  },
  {
   "metadata": {
    "ExecuteTime": {
     "end_time": "2025-07-05T16:32:47.520437Z",
     "start_time": "2025-07-05T16:32:45.732414Z"
    }
   },
   "cell_type": "code",
   "source": [
    "import  re\n",
    "loader = WebBaseLoader(\"https://careers.nike.com/store-manager-head-coach-dundrum/job/R-63740\")\n",
    "page_data = loader.load().pop().page_content\n",
    "lines = page_data.split('\\n')\n",
    "clean_lines = [re.sub(r'\\s+', ' ', line).strip() for line in lines if line.strip()]\n",
    "clean_data = '\\n'.join(clean_lines)\n",
    "page_data = clean_data\n",
    "print(page_data)"
   ],
   "id": "af2baec5f0593162",
   "outputs": [
    {
     "name": "stdout",
     "output_type": "stream",
     "text": [
      "Store Manager (Head Coach) - Dundrum\n",
      "Skip to main content\n",
      "Open Virtual Assistant\n",
      "Home\n",
      "Career Areas\n",
      "Total Rewards\n",
      "Life@Nike\n",
      "Purpose\n",
      "Language\n",
      "Select a Language\n",
      "Deutsch\n",
      "English\n",
      "Español (España)\n",
      "Español (América Latina)\n",
      "Français\n",
      "Italiano\n",
      "Nederlands\n",
      "Polski\n",
      "Tiếng Việt\n",
      "Türkçe\n",
      "简体中文\n",
      "繁體中文\n",
      "עִברִית\n",
      "한국어\n",
      "日本語\n",
      "Careers\n",
      "Close Menu\n",
      "Careers\n",
      "Chat\n",
      "Home\n",
      "Career Areas\n",
      "Total Rewards\n",
      "Life@Nike\n",
      "Purpose\n",
      "Jordan Careers\n",
      "Converse Careers\n",
      "Language\n",
      "Menu\n",
      "Return to Previous Menu\n",
      "Select a Language\n",
      "Deutsch\n",
      "English\n",
      "Español (España)\n",
      "Español (América Latina)\n",
      "Français\n",
      "Italiano\n",
      "Nederlands\n",
      "Polski\n",
      "Tiếng Việt\n",
      "Türkçe\n",
      "简体中文\n",
      "繁體中文\n",
      "עִברִית\n",
      "한국어\n",
      "日本語\n",
      "Back to Search\n",
      "Store Manager (Head Coach) - Dundrum\n",
      "Categories ID\n",
      "Categories URL\n",
      "Position Type\n",
      "Full Time\n",
      "Date Posted\n",
      "Primary Quest ID\n",
      "Second Quest ID\n",
      "Job Classification\n",
      "Career area\n",
      "Stores\n",
      "Location\n",
      "16 Sandyford Road, Dublin Dundrum, Dundrum, Dublin D16 E0E8, Ireland\n",
      "Job ID\n",
      "R-63740\n",
      "Apply Now\n",
      "Share Job\n",
      "Share Job Posting\n",
      "Facebook\n",
      "Opens In A New Tab\n",
      "LinkedIn\n",
      "Link Opens In New Window\n",
      "Email\n",
      "Close-Medium (Default Size)-icon\n",
      "Close Menu\n",
      "Become a Part of the NIKE, Inc. Team\n",
      "NIKE, Inc. does more than outfit the world’s best athletes. It is a place to explore\n",
      "potential, obliterate boundaries\n",
      "and push out the edges of what can be. The company looks for people who can grow, think,\n",
      "dream and create. Its\n",
      "culture thrives by embracing diversity and rewarding imagination. The brand seeks achievers,\n",
      "leaders and\n",
      "visionaries. At NIKE, Inc. it’s about each person bringing skills and passion to a\n",
      "challenging and constantly\n",
      "evolving game.\n",
      "Our purpose is to unite the world through sport to create a healthy planet, active communities, and an equal playing field for all. Within our Nike Retail organization, you'll be part of a diverse & inclusive team with opportunities for personal growth and professional development, all in a work environment where you can be your authentic self. As a Nike Store Manager (Head Coach), your mission is to bring Nike to life for our consumers. The Head Coach is accountable for developing both leaders and athletes to successfully implement Nike’s programs and delivering premium consumer experience in service of driving positive business results. You will work onCreating a welcoming environment in the store to provide a unique shopping experience to our consumers Building, leading, and developing a diverse team and ensuring an excellent work atmosphere Managing store budgets and operations to reach sales targets, optimize services and improve customer satisfaction Supporting and implementing NIKE’s strategy in your store (e.g. sustainability, membership, digital services) Providing insights for an optimized positioning of the store in the local region Ensuring that the store complies with all NIKE standards and guidelines Cooperating with your business partners across stores and HQ What you bringA passion for NIKE and/or love of sport Demonstrated store management experience Extensive experience and ability to lead the delivery of a high level of customer service Ability to build, lead with courage and manage high performing teams Effective communication skills Fluency in English and local language Ability to use retail business systems & Microsoft Office Flexibility to work in shifts and on weekends What you getAttractive salary that evolves with the market and experience Opportunity to receive monthly bonus payments Attractive Benefits Package Exciting development and career opportunities Regular training on leadership, sales and products A dynamic and motivating environment which values Diversity, Equity & Inclusion (DE&I) Attractive online and in-store employee discounts Staff dress to represent NIKE and foster our team spirit Opportunities to participate in unique NIKE moments We are waiting for you!\n",
      "NIKE, Inc. is a growth company that looks for team members to grow with it. Nike offers a\n",
      "generous total rewards\n",
      "package, casual work environment, a diverse and inclusive culture, and an electric\n",
      "atmosphere for professional\n",
      "development. No matter the location, or the role, every Nike employee shares one galvanizing\n",
      "mission: To bring\n",
      "inspiration and innovation to every athlete* in the world.\n",
      "NIKE, Inc. is an equal opportunity employer. Qualified applicants will receive\n",
      "consideration without\n",
      "regard to race, color, religion, sex, national origin, age, sexual orientation, gender\n",
      "identity, gender expression,\n",
      "veteran status, or disability.\n",
      "Apply Now\n",
      "Share Job\n",
      "Share Job Posting\n",
      "Faceboox\n",
      "Opens In A New Tab\n",
      "LinkedIn\n",
      "Link Opens In New Window\n",
      "Email\n",
      "Close-Medium (Default Size)-icon\n",
      "Close Menu\n",
      "What You Can Expect\n",
      "OUR HIRING GAME PLAN\n",
      "01 Apply\n",
      "Our teams are made up of diverse skillsets, knowledge bases, inputs, ideas and backgrounds.\n",
      "We want you to find your fit – review job descriptions, departments and teams to discover\n",
      "the role for you.\n",
      "02 Meet a Recruiter or Take an Assessment\n",
      "If selected for a corporate role, a recruiter will reach out to start your interview process\n",
      "and be your main contact\n",
      "throughout the process. For retail roles, you’ll complete an interactive assessment that\n",
      "includes a chat and quizzes and\n",
      "takes about 10-20 minutes to complete. No matter the role, we want to learn about you – the\n",
      "whole you – so don’t shy\n",
      "away from how you approach world-class service and what makes you unique.\n",
      "03 Interview\n",
      "Go into this stage confident by doing your research, understanding what we are looking for\n",
      "and being prepared for\n",
      "questions that are set up to learn more about you, and your background.\n",
      "Home\n",
      "About Us\n",
      "Contact\n",
      "Talent Community\n",
      "Terms\n",
      "Nike Applicant Privacy Policy\n",
      "We offer a number of accommodations to complete our interview process including screen readers, sign language interpreters,\n",
      "accessible and single location for in-person interviews, closed captioning, and other reasonable modifications as\n",
      "needed.\n",
      "If you discover, as you navigate our application process, that you need assistance or an accommodation due to a\n",
      "disability, please contact us at +1 503-671-4156 and include your full name, best way to reach you, and the\n",
      "accommodation you request to assist with the application process.\n",
      "For more information, please refer to Equal Employment\n",
      "Opportunity is The Law.\n",
      "© Nike, Inc. All Rights Reserved\n",
      "Careers\n",
      "Chat\n",
      "Chat with our AI Assistant\n"
     ]
    }
   ],
   "execution_count": 5
  },
  {
   "metadata": {
    "ExecuteTime": {
     "end_time": "2025-07-05T16:32:50.853814Z",
     "start_time": "2025-07-05T16:32:50.802337Z"
    }
   },
   "cell_type": "code",
   "source": "from langchain_core.prompts import PromptTemplate",
   "id": "dda5dd0e956a52d3",
   "outputs": [],
   "execution_count": 6
  },
  {
   "metadata": {
    "ExecuteTime": {
     "end_time": "2025-07-05T16:32:51.861420Z",
     "start_time": "2025-07-05T16:32:51.857727Z"
    }
   },
   "cell_type": "code",
   "source": [
    "prompt_extract = PromptTemplate.from_template(\n",
    "        \"\"\"\n",
    "        ### SCRAPED TEXT FROM WEBSITE:\n",
    "        {page_data}\n",
    "        ### INSTRUCTION:\n",
    "        The scraped text is from the career's page of a website.\n",
    "        Your job is to extract the job postings and return them in JSON format containing the\n",
    "        following keys: `role`, `experience`, `skills` and `description`.\n",
    "        Only return the valid JSON.\n",
    "        ### VALID JSON (NO PREAMBLE):\n",
    "        \"\"\"\n",
    ")\n"
   ],
   "id": "dd0c0a49b954092a",
   "outputs": [],
   "execution_count": 7
  },
  {
   "metadata": {
    "ExecuteTime": {
     "end_time": "2025-07-05T16:32:53.855739Z",
     "start_time": "2025-07-05T16:32:53.851832Z"
    }
   },
   "cell_type": "code",
   "source": "chain_extract = prompt_extract | llm",
   "id": "5c0a3a8ae4095424",
   "outputs": [],
   "execution_count": 8
  },
  {
   "metadata": {
    "ExecuteTime": {
     "end_time": "2025-07-05T16:32:56.598064Z",
     "start_time": "2025-07-05T16:32:55.373148Z"
    }
   },
   "cell_type": "code",
   "source": [
    "res = chain_extract.invoke(input={'page_data':page_data})\n",
    "print(res.content)"
   ],
   "id": "b0d7875f702d4778",
   "outputs": [
    {
     "name": "stdout",
     "output_type": "stream",
     "text": [
      "Here is the extracted job posting in JSON format:\n",
      "\n",
      "```\n",
      "{\n",
      "  \"role\": \"Store Manager (Head Coach)\",\n",
      "  \"experience\": \"Demonstrated store management experience\",\n",
      "  \"skills\": [\n",
      "    \"Ability to lead the delivery of a high level of customer service\",\n",
      "    \"Ability to build, lead with courage and manage high performing teams\",\n",
      "    \"Effective communication skills\",\n",
      "    \"Fluency in English and local language\",\n",
      "    \"Ability to use retail business systems & Microsoft Office\"\n",
      "  ],\n",
      "  \"description\": \"As a Nike Store Manager (Head Coach), your mission is to bring Nike to life for our consumers. The Head Coach is accountable for developing both leaders and athletes to successfully implement Nike’s programs and delivering premium consumer experience in service of driving positive business results.\"\n",
      "}\n",
      "```\n"
     ]
    }
   ],
   "execution_count": 9
  },
  {
   "metadata": {
    "ExecuteTime": {
     "end_time": "2025-07-05T16:32:59.272367Z",
     "start_time": "2025-07-05T16:32:59.254911Z"
    }
   },
   "cell_type": "code",
   "source": [
    "from langchain_core.output_parsers import JsonOutputParser\n",
    "json_parser = JsonOutputParser()\n",
    "json_res = json_parser.parse(res.content)\n",
    "json_res"
   ],
   "id": "e59de91375832f6e",
   "outputs": [
    {
     "data": {
      "text/plain": [
       "{'role': 'Store Manager (Head Coach)',\n",
       " 'experience': 'Demonstrated store management experience',\n",
       " 'skills': ['Ability to lead the delivery of a high level of customer service',\n",
       "  'Ability to build, lead with courage and manage high performing teams',\n",
       "  'Effective communication skills',\n",
       "  'Fluency in English and local language',\n",
       "  'Ability to use retail business systems & Microsoft Office'],\n",
       " 'description': 'As a Nike Store Manager (Head Coach), your mission is to bring Nike to life for our consumers. The Head Coach is accountable for developing both leaders and athletes to successfully implement Nike’s programs and delivering premium consumer experience in service of driving positive business results.'}"
      ]
     },
     "execution_count": 10,
     "metadata": {},
     "output_type": "execute_result"
    }
   ],
   "execution_count": 10
  },
  {
   "metadata": {
    "ExecuteTime": {
     "end_time": "2025-07-05T16:33:01.056403Z",
     "start_time": "2025-07-05T16:33:01.051723Z"
    }
   },
   "cell_type": "code",
   "source": "type(json_res)",
   "id": "2707e0b3951e6f5c",
   "outputs": [
    {
     "data": {
      "text/plain": [
       "dict"
      ]
     },
     "execution_count": 11,
     "metadata": {},
     "output_type": "execute_result"
    }
   ],
   "execution_count": 11
  },
  {
   "metadata": {
    "ExecuteTime": {
     "end_time": "2025-07-05T16:33:03.313828Z",
     "start_time": "2025-07-05T16:33:02.735680Z"
    }
   },
   "cell_type": "code",
   "source": [
    "import pandas as pd\n",
    "df = pd.read_csv(\"dummy_portfolio.csv\")\n",
    "df"
   ],
   "id": "ffa55a5ce3a84348",
   "outputs": [
    {
     "data": {
      "text/plain": [
       "                               Techstack  \\\n",
       "0                React, Node.js, MongoDB   \n",
       "1               Angular,.NET, SQL Server   \n",
       "2      Vue.js, Ruby on Rails, PostgreSQL   \n",
       "3                  Python, Django, MySQL   \n",
       "4              Java, Spring Boot, Oracle   \n",
       "5             Flutter, Firebase, GraphQL   \n",
       "6                  WordPress, PHP, MySQL   \n",
       "7                    Magento, PHP, MySQL   \n",
       "8         React Native, Node.js, MongoDB   \n",
       "9                  iOS, Swift, Core Data   \n",
       "10       Android, Java, Room Persistence   \n",
       "11             Kotlin, Android, Firebase   \n",
       "12       Android TV, Kotlin, Android NDK   \n",
       "13                     iOS, Swift, ARKit   \n",
       "14        Cross-platform, Xamarin, Azure   \n",
       "15          Backend, Kotlin, Spring Boot   \n",
       "16         Frontend, TypeScript, Angular   \n",
       "17    Full-stack, JavaScript, Express.js   \n",
       "18  Machine Learning, Python, TensorFlow   \n",
       "19               DevOps, Jenkins, Docker   \n",
       "\n",
       "                                                Links  \n",
       "0                 https://example.com/react-portfolio  \n",
       "1               https://example.com/angular-portfolio  \n",
       "2                   https://example.com/vue-portfolio  \n",
       "3                https://example.com/python-portfolio  \n",
       "4                  https://example.com/java-portfolio  \n",
       "5               https://example.com/flutter-portfolio  \n",
       "6             https://example.com/wordpress-portfolio  \n",
       "7               https://example.com/magento-portfolio  \n",
       "8          https://example.com/react-native-portfolio  \n",
       "9                   https://example.com/ios-portfolio  \n",
       "10              https://example.com/android-portfolio  \n",
       "11       https://example.com/kotlin-android-portfolio  \n",
       "12           https://example.com/android-tv-portfolio  \n",
       "13               https://example.com/ios-ar-portfolio  \n",
       "14              https://example.com/xamarin-portfolio  \n",
       "15       https://example.com/kotlin-backend-portfolio  \n",
       "16  https://example.com/typescript-frontend-portfolio  \n",
       "17        https://example.com/full-stack-js-portfolio  \n",
       "18            https://example.com/ml-python-portfolio  \n",
       "19               https://example.com/devops-portfolio  "
      ],
      "text/html": [
       "<div>\n",
       "<style scoped>\n",
       "    .dataframe tbody tr th:only-of-type {\n",
       "        vertical-align: middle;\n",
       "    }\n",
       "\n",
       "    .dataframe tbody tr th {\n",
       "        vertical-align: top;\n",
       "    }\n",
       "\n",
       "    .dataframe thead th {\n",
       "        text-align: right;\n",
       "    }\n",
       "</style>\n",
       "<table border=\"1\" class=\"dataframe\">\n",
       "  <thead>\n",
       "    <tr style=\"text-align: right;\">\n",
       "      <th></th>\n",
       "      <th>Techstack</th>\n",
       "      <th>Links</th>\n",
       "    </tr>\n",
       "  </thead>\n",
       "  <tbody>\n",
       "    <tr>\n",
       "      <th>0</th>\n",
       "      <td>React, Node.js, MongoDB</td>\n",
       "      <td>https://example.com/react-portfolio</td>\n",
       "    </tr>\n",
       "    <tr>\n",
       "      <th>1</th>\n",
       "      <td>Angular,.NET, SQL Server</td>\n",
       "      <td>https://example.com/angular-portfolio</td>\n",
       "    </tr>\n",
       "    <tr>\n",
       "      <th>2</th>\n",
       "      <td>Vue.js, Ruby on Rails, PostgreSQL</td>\n",
       "      <td>https://example.com/vue-portfolio</td>\n",
       "    </tr>\n",
       "    <tr>\n",
       "      <th>3</th>\n",
       "      <td>Python, Django, MySQL</td>\n",
       "      <td>https://example.com/python-portfolio</td>\n",
       "    </tr>\n",
       "    <tr>\n",
       "      <th>4</th>\n",
       "      <td>Java, Spring Boot, Oracle</td>\n",
       "      <td>https://example.com/java-portfolio</td>\n",
       "    </tr>\n",
       "    <tr>\n",
       "      <th>5</th>\n",
       "      <td>Flutter, Firebase, GraphQL</td>\n",
       "      <td>https://example.com/flutter-portfolio</td>\n",
       "    </tr>\n",
       "    <tr>\n",
       "      <th>6</th>\n",
       "      <td>WordPress, PHP, MySQL</td>\n",
       "      <td>https://example.com/wordpress-portfolio</td>\n",
       "    </tr>\n",
       "    <tr>\n",
       "      <th>7</th>\n",
       "      <td>Magento, PHP, MySQL</td>\n",
       "      <td>https://example.com/magento-portfolio</td>\n",
       "    </tr>\n",
       "    <tr>\n",
       "      <th>8</th>\n",
       "      <td>React Native, Node.js, MongoDB</td>\n",
       "      <td>https://example.com/react-native-portfolio</td>\n",
       "    </tr>\n",
       "    <tr>\n",
       "      <th>9</th>\n",
       "      <td>iOS, Swift, Core Data</td>\n",
       "      <td>https://example.com/ios-portfolio</td>\n",
       "    </tr>\n",
       "    <tr>\n",
       "      <th>10</th>\n",
       "      <td>Android, Java, Room Persistence</td>\n",
       "      <td>https://example.com/android-portfolio</td>\n",
       "    </tr>\n",
       "    <tr>\n",
       "      <th>11</th>\n",
       "      <td>Kotlin, Android, Firebase</td>\n",
       "      <td>https://example.com/kotlin-android-portfolio</td>\n",
       "    </tr>\n",
       "    <tr>\n",
       "      <th>12</th>\n",
       "      <td>Android TV, Kotlin, Android NDK</td>\n",
       "      <td>https://example.com/android-tv-portfolio</td>\n",
       "    </tr>\n",
       "    <tr>\n",
       "      <th>13</th>\n",
       "      <td>iOS, Swift, ARKit</td>\n",
       "      <td>https://example.com/ios-ar-portfolio</td>\n",
       "    </tr>\n",
       "    <tr>\n",
       "      <th>14</th>\n",
       "      <td>Cross-platform, Xamarin, Azure</td>\n",
       "      <td>https://example.com/xamarin-portfolio</td>\n",
       "    </tr>\n",
       "    <tr>\n",
       "      <th>15</th>\n",
       "      <td>Backend, Kotlin, Spring Boot</td>\n",
       "      <td>https://example.com/kotlin-backend-portfolio</td>\n",
       "    </tr>\n",
       "    <tr>\n",
       "      <th>16</th>\n",
       "      <td>Frontend, TypeScript, Angular</td>\n",
       "      <td>https://example.com/typescript-frontend-portfolio</td>\n",
       "    </tr>\n",
       "    <tr>\n",
       "      <th>17</th>\n",
       "      <td>Full-stack, JavaScript, Express.js</td>\n",
       "      <td>https://example.com/full-stack-js-portfolio</td>\n",
       "    </tr>\n",
       "    <tr>\n",
       "      <th>18</th>\n",
       "      <td>Machine Learning, Python, TensorFlow</td>\n",
       "      <td>https://example.com/ml-python-portfolio</td>\n",
       "    </tr>\n",
       "    <tr>\n",
       "      <th>19</th>\n",
       "      <td>DevOps, Jenkins, Docker</td>\n",
       "      <td>https://example.com/devops-portfolio</td>\n",
       "    </tr>\n",
       "  </tbody>\n",
       "</table>\n",
       "</div>"
      ]
     },
     "execution_count": 12,
     "metadata": {},
     "output_type": "execute_result"
    }
   ],
   "execution_count": 12
  },
  {
   "metadata": {
    "ExecuteTime": {
     "end_time": "2025-07-05T16:33:06.346403Z",
     "start_time": "2025-07-05T16:33:05.876415Z"
    }
   },
   "cell_type": "code",
   "source": [
    "import  chromadb\n",
    "import uuid"
   ],
   "id": "70e61fe719845291",
   "outputs": [],
   "execution_count": 13
  },
  {
   "metadata": {
    "jupyter": {
     "is_executing": true
    },
    "ExecuteTime": {
     "end_time": "2025-07-05T16:37:37.323774Z",
     "start_time": "2025-07-05T16:33:19.675588Z"
    }
   },
   "cell_type": "code",
   "source": [
    "import uuid\n",
    "import chromadb\n",
    "\n",
    "client = chromadb.PersistentClient('vectorstore')\n",
    "collection = client.get_or_create_collection(name=\"portfolio\")\n",
    "\n",
    "if not collection.count():\n",
    "    for _, row in df.iterrows():\n",
    "        collection.add(documents=row[\"Techstack\"],\n",
    "                       metadatas={\"links\": row[\"Links\"]},\n",
    "                       ids=[str(uuid.uuid4())])"
   ],
   "id": "b522bef21dd04819",
   "outputs": [],
   "execution_count": null
  },
  {
   "metadata": {},
   "cell_type": "code",
   "outputs": [],
   "execution_count": null,
   "source": [
    "job = json_res\n",
    "job['skills']"
   ],
   "id": "4b45ccb5fa39dd9d"
  },
  {
   "metadata": {},
   "cell_type": "code",
   "outputs": [],
   "execution_count": null,
   "source": [
    "links = collection.query(query_texts=job['skills'], n_results=2).get('metadatas', [])\n",
    "links"
   ],
   "id": "8f82013600e7c572"
  },
  {
   "metadata": {},
   "cell_type": "code",
   "outputs": [],
   "execution_count": null,
   "source": [
    "prompt_email = PromptTemplate.from_template(\n",
    "        \"\"\"\n",
    "        ### JOB DESCRIPTION:\n",
    "        {job_description}\n",
    "\n",
    "        ### INSTRUCTION:\n",
    "        You are Mohan, a business development executive at AtliQ. AtliQ is an AI & Software Consulting company dedicated to facilitating\n",
    "        the seamless integration of business processes through automated tools.\n",
    "        Over our experience, we have empowered numerous enterprises with tailored solutions, fostering scalability,\n",
    "        process optimization, cost reduction, and heightened overall efficiency.\n",
    "        Your job is to write a cold email to the client regarding the job mentioned above describing the capability of AtliQ\n",
    "        in fulfilling their needs.\n",
    "        Also add the most relevant ones from the following links to showcase Atliq's portfolio: {link_list}\n",
    "        Remember you are Mohan, BDE at AtliQ.\n",
    "        Do not provide a preamble.\n",
    "        ### EMAIL (NO PREAMBLE):\n",
    "\n",
    "        \"\"\"\n",
    "        )\n",
    "\n",
    "chain_email = prompt_email | llm\n",
    "res = chain_email.invoke({\"job_description\": str(job), \"link_list\": links})\n",
    "print(res.content)"
   ],
   "id": "79b6637bb4f82e52"
  }
 ],
 "metadata": {
  "kernelspec": {
   "display_name": "Python 3",
   "language": "python",
   "name": "python3"
  },
  "language_info": {
   "codemirror_mode": {
    "name": "ipython",
    "version": 2
   },
   "file_extension": ".py",
   "mimetype": "text/x-python",
   "name": "python",
   "nbconvert_exporter": "python",
   "pygments_lexer": "ipython2",
   "version": "2.7.6"
  }
 },
 "nbformat": 4,
 "nbformat_minor": 5
}
